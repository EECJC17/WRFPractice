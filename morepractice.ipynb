{
 "cells": [
  {
   "cell_type": "code",
   "execution_count": 16,
   "metadata": {},
   "outputs": [
    {
     "name": "stdout",
     "output_type": "stream",
     "text": [
      "EMEP4UK_rv4.17_WRF3.7.1_CEHLAND_EU_to_UK_trend2010_emiss2010_UK_2010_day_PM25.nc\n",
      "EMEP4UK_rv4.17_WRF3.7.1_CEHLAND_EU_to_UK_trend2011_emiss2011_UK_2011_day_PM25.nc\n",
      "EMEP4UK_rv4.17_WRF3.7.1_CEHLAND_EU_to_UK_trend2012_emiss2012_UK_2012_day_PM25.nc\n",
      "EMEP4UK_rv4.17_WRF3.7.1_CEHLAND_EU_to_UK_trend2013_emiss2013_UK_2013_day_PM25.nc\n",
      "EMEP4UK_rv4.17_WRF3.7.1_CEHLAND_EU_to_UK_trend2014_emiss2014_UK_2014_day_PM25.nc\n",
      "EMEP4UK_rv4.17_WRF3.7.1_CEHLAND_EU_to_UK_trend2015_emiss2015_UK_2015_day_PM25.nc\n",
      "EMEP4UK_rv4.17_WRF3.7.1_CEHLAND_EU_to_UK_trend2016_emiss2015_UK_2016_day_PM25.nc\n"
     ]
    }
   ],
   "source": [
    "import xarray as xr\n",
    "import matplotlib.pyplot as plt\n",
    "import numpy as np\n",
    "import cartopy.crs as ccrs\n",
    "from cartopy.util import add_cyclic_point\n",
    "from ipywidgets import interactive\n",
    "import matplotlib as mpl\n",
    "from matplotlib.cm import get_cmap\n",
    "from matplotlib.colors import from_levels_and_colors\n",
    "from cartopy.mpl.gridliner import LONGITUDE_FORMATTER, LATITUDE_FORMATTER\n",
    "from cartopy.feature import (OCEAN, LAKES, BORDERS, COASTLINE, RIVERS, COLORS,\n",
    "                             LAND)\n",
    "from wrf import (to_np, getvar, smooth2d, get_cartopy, cartopy_xlim,\n",
    "                 cartopy_ylim, latlon_coords)\n",
    "from wrf import (getvar, to_np, vertcross, smooth2d, CoordPair, GeoBounds,\n",
    "                 get_cartopy, latlon_coords, cartopy_xlim, cartopy_ylim)\n",
    "from wrf import getvar, interplevel, to_np, get_basemap, latlon_coords\n",
    "import os\n",
    "import pandas as pd\n",
    "import glob\n",
    "\n",
    "directory = r'C:\\Users\\conno\\OneDrive\\Documents\\pythonstuff\\EMEP'\n",
    "\n",
    "files = glob.glob()\n",
    "for f in files\n",
    "    \n",
    "        #xr.open_dataset(filename)\n",
    "        #pm2010 = ds2010['SURF_ug_PM25']\n",
    "        #pm25_2010 = pm2010.mean(dim = 'time')\n",
    "\n",
    "\n",
    "\n",
    "#fig = plt.figure (figsize = (18, 12))\n",
    "#ax =plt.axes(projection = ccrs.Mercator(central_longitude = 1.96)) \n",
    "#ax.coastlines()\n",
    "#ax.set_extent([-10.7,2.6,48.5,61.8]) \n",
    "#pm25_2010.plot(transform=ccrs.PlateCarree()) \n",
    "#plt.title ('mean PM2.5 Conc 2010')\n",
    "#plt.show"
   ]
  },
  {
   "cell_type": "code",
   "execution_count": null,
   "metadata": {},
   "outputs": [],
   "source": []
  }
 ],
 "metadata": {
  "kernelspec": {
   "display_name": "Python 3",
   "language": "python",
   "name": "python3"
  },
  "language_info": {
   "codemirror_mode": {
    "name": "ipython",
    "version": 3
   },
   "file_extension": ".py",
   "mimetype": "text/x-python",
   "name": "python",
   "nbconvert_exporter": "python",
   "pygments_lexer": "ipython3",
   "version": "3.8.3"
  }
 },
 "nbformat": 4,
 "nbformat_minor": 4
}
